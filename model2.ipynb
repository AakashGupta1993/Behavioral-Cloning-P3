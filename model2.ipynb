{
 "cells": [
  {
   "cell_type": "markdown",
   "metadata": {},
   "source": [
    "## Step 1: Load the data\n",
    "\n",
    "Load data from the csv and the images"
   ]
  },
  {
   "cell_type": "code",
   "execution_count": 27,
   "metadata": {},
   "outputs": [
    {
     "name": "stdout",
     "output_type": "stream",
     "text": [
      "All files downloaded.\n"
     ]
    }
   ],
   "source": [
    "#AWS\n",
    "\n",
    "import pickle\n",
    "import os\n",
    "from urllib.request import urlretrieve\n",
    "from zipfile import ZipFile\n",
    "\n",
    "def download(url, file):\n",
    "    \"\"\"\n",
    "    Download file from <url>\n",
    "    :param url: URL to file\n",
    "    :param file: Local file path\n",
    "    \"\"\"\n",
    "    if not os.path.isfile(file):\n",
    "        print('Downloading ' + file + '...')\n",
    "        urlretrieve(url, file)\n",
    "        print('Download Finished')\n",
    "        #Unzip the downloaded file to get pickled data\n",
    "        zip = ZipFile('data.zip')\n",
    "        zip.extractall()\n",
    "\n",
    "# Downloading the training and test dataset.\n",
    "download('https://d17h27t6h515a5.cloudfront.net/topher/2016/December/584f6edd_data/data.zip', 'data.zip')\n",
    "\n",
    "# Wait until you see that all files have been downloaded.\n",
    "print('All files downloaded.')\n",
    "\n"
   ]
  },
  {
   "cell_type": "code",
   "execution_count": 28,
   "metadata": {},
   "outputs": [
    {
     "name": "stdout",
     "output_type": "stream",
     "text": [
      "Hello\n",
      "(13058, 160, 320, 3)\n",
      "2511\n",
      "8037\n",
      "13058\n"
     ]
    }
   ],
   "source": [
    "import csv\n",
    "import cv2\n",
    "import numpy as np\n",
    "\n",
    "lines =[]\n",
    "#with open('../Behavioural Cloning Data/driving_log.csv') as csvfile:\n",
    "with open('data/driving_log.csv') as csvfile:\n",
    "#with open('../data/driving_log_2.csv') as csvfile:\n",
    "    reader = csv.reader(csvfile)\n",
    "    for line in reader:\n",
    "        lines.append(line)\n",
    "images=[]\n",
    "measurements=[]\n",
    "count=0\n",
    "for line in lines[1:]:\n",
    "    source_path = line[0]\n",
    "    filename = source_path.split('/')[-1]\n",
    "    current_path = 'data/IMG/' + filename\n",
    "    #current_path = source_path\n",
    "    image = cv2.imread(current_path)\n",
    "    #print(image.shape)\n",
    "    images.append(image)\n",
    "    measurement = float(line[3])\n",
    "    measurements.append(measurement)\n",
    "    if (abs(measurement)>0.1):\n",
    "        count=count+1\n",
    "        image_flipped = np.fliplr(image)\n",
    "        measurement_flipped = -measurement\n",
    "        images.append(image_flipped)\n",
    "        measurements.append(measurement_flipped)\n",
    "        images.append(image_flipped)\n",
    "        measurements.append(measurement_flipped)\n",
    "    if (abs(measurement)>0.3):\n",
    "        count=count+1\n",
    "        image_flipped = np.fliplr(image)\n",
    "        measurement_flipped = -measurement\n",
    "        images.append(image_flipped)\n",
    "        measurements.append(measurement_flipped)\n",
    "        images.append(image)\n",
    "        measurements.append(measurement)\n",
    "        \n",
    "    \n",
    "X_train = np.array(images)\n",
    "y_train = np.array(measurements)\n",
    "'''X_train = np.array(X_train)\n",
    "y_train = np.array(y_train)'''\n",
    "print('Hello')\n",
    "print (X_train.shape)\n",
    "print(count)\n",
    "print(len(lines))\n",
    "print(len(images))"
   ]
  },
  {
   "cell_type": "markdown",
   "metadata": {},
   "source": [
    "## Step 2: Design and Test a Model Architecture\n",
    "\n",
    "Model architecture"
   ]
  },
  {
   "cell_type": "code",
   "execution_count": 31,
   "metadata": {},
   "outputs": [
    {
     "name": "stdout",
     "output_type": "stream",
     "text": [
      "____________________________________________________________________________________________________\n",
      "Layer (type)                     Output Shape          Param #     Connected to                     \n",
      "====================================================================================================\n",
      "lambda_11 (Lambda)               (None, 160, 320, 3)   0           lambda_input_11[0][0]            \n",
      "____________________________________________________________________________________________________\n",
      "cropping2d_11 (Cropping2D)       (None, 60, 320, 3)    0           lambda_11[0][0]                  \n",
      "____________________________________________________________________________________________________\n",
      "convolution2d_51 (Convolution2D) (None, 56, 316, 6)    456         cropping2d_11[0][0]              \n",
      "____________________________________________________________________________________________________\n",
      "maxpooling2d_41 (MaxPooling2D)   (None, 28, 158, 6)    0           convolution2d_51[0][0]           \n",
      "____________________________________________________________________________________________________\n",
      "activation_71 (Activation)       (None, 28, 158, 6)    0           maxpooling2d_41[0][0]            \n",
      "____________________________________________________________________________________________________\n",
      "convolution2d_52 (Convolution2D) (None, 24, 154, 16)   2416        activation_71[0][0]              \n",
      "____________________________________________________________________________________________________\n",
      "maxpooling2d_42 (MaxPooling2D)   (None, 12, 77, 16)    0           convolution2d_52[0][0]           \n",
      "____________________________________________________________________________________________________\n",
      "activation_72 (Activation)       (None, 12, 77, 16)    0           maxpooling2d_42[0][0]            \n",
      "____________________________________________________________________________________________________\n",
      "convolution2d_53 (Convolution2D) (None, 8, 73, 18)     7218        activation_72[0][0]              \n",
      "____________________________________________________________________________________________________\n",
      "maxpooling2d_43 (MaxPooling2D)   (None, 8, 36, 18)     0           convolution2d_53[0][0]           \n",
      "____________________________________________________________________________________________________\n",
      "activation_73 (Activation)       (None, 8, 36, 18)     0           maxpooling2d_43[0][0]            \n",
      "____________________________________________________________________________________________________\n",
      "convolution2d_54 (Convolution2D) (None, 6, 34, 20)     3260        activation_73[0][0]              \n",
      "____________________________________________________________________________________________________\n",
      "maxpooling2d_44 (MaxPooling2D)   (None, 6, 17, 20)     0           convolution2d_54[0][0]           \n",
      "____________________________________________________________________________________________________\n",
      "activation_74 (Activation)       (None, 6, 17, 20)     0           maxpooling2d_44[0][0]            \n",
      "____________________________________________________________________________________________________\n",
      "convolution2d_55 (Convolution2D) (None, 4, 15, 8)      1448        activation_74[0][0]              \n",
      "____________________________________________________________________________________________________\n",
      "activation_75 (Activation)       (None, 4, 15, 8)      0           convolution2d_55[0][0]           \n",
      "____________________________________________________________________________________________________\n",
      "flatten_11 (Flatten)             (None, 480)           0           activation_75[0][0]              \n",
      "____________________________________________________________________________________________________\n",
      "dense_31 (Dense)                 (None, 400)           192400      flatten_11[0][0]                 \n",
      "____________________________________________________________________________________________________\n",
      "activation_76 (Activation)       (None, 400)           0           dense_31[0][0]                   \n",
      "____________________________________________________________________________________________________\n",
      "dense_32 (Dense)                 (None, 200)           80200       activation_76[0][0]              \n",
      "____________________________________________________________________________________________________\n",
      "activation_77 (Activation)       (None, 200)           0           dense_32[0][0]                   \n",
      "____________________________________________________________________________________________________\n",
      "dense_33 (Dense)                 (None, 80)            16080       activation_77[0][0]              \n",
      "____________________________________________________________________________________________________\n",
      "activation_78 (Activation)       (None, 80)            0           dense_33[0][0]                   \n",
      "____________________________________________________________________________________________________\n",
      "dense_34 (Dense)                 (None, 1)             81          activation_78[0][0]              \n",
      "====================================================================================================\n",
      "Total params: 303,559\n",
      "Trainable params: 303,559\n",
      "Non-trainable params: 0\n",
      "____________________________________________________________________________________________________\n"
     ]
    }
   ],
   "source": [
    "%config IPCompleter.greedy=True\n",
    "from keras.models import Sequential\n",
    "from keras.layers import Flatten, Dense, Lambda, Activation\n",
    "from keras.layers import Convolution2D, Cropping2D\n",
    "from keras.layers.pooling import MaxPooling2D\n",
    "\n",
    "model = Sequential()\n",
    "#normalization\n",
    "model.add(Lambda(lambda x:x/255.0-0.5,input_shape=(160,320,3)))\n",
    "model.add(Cropping2D(cropping=((75,25),(0,0))))\n",
    "\n",
    "\n",
    "#Layer 1: Convolution\n",
    "model.add(Convolution2D(6, 5, 5,border_mode='valid'))\n",
    "model.add(MaxPooling2D((2, 2)))\n",
    "model.add(Activation('elu'))\n",
    "\n",
    "\n",
    "#Layer 2: Convolution\n",
    "model.add(Convolution2D(16, 5, 5,border_mode='valid'))\n",
    "model.add(MaxPooling2D((2, 2)))\n",
    "model.add(Activation('elu'))\n",
    "\n",
    "#Layer 3: Convolution\n",
    "model.add(Convolution2D(18, 5, 5,border_mode='valid'))\n",
    "model.add(MaxPooling2D((1, 2)))\n",
    "model.add(Activation('elu'))\n",
    "\n",
    "#Layer 4: Convolution\n",
    "model.add(Convolution2D(20, 3, 3,border_mode='valid'))\n",
    "model.add(MaxPooling2D((1, 2)))\n",
    "model.add(Activation('relu'))\n",
    "\n",
    "#Layer 5: Convolution\n",
    "model.add(Convolution2D(8, 3, 3,border_mode='valid'))\n",
    "#model.add(MaxPooling2D((2, 2)))\n",
    "model.add(Activation('elu'))\n",
    "\n",
    "\n",
    "\n",
    "model.add(Flatten())\n",
    "model.add(Dense(400))\n",
    "model.add(Activation('elu'))\n",
    "model.add(Dense(200))\n",
    "model.add(Activation('elu'))\n",
    "model.add(Dense(80))\n",
    "model.add(Activation('elu'))\n",
    "model.add(Dense(1))\n",
    "\n",
    "model.summary()"
   ]
  },
  {
   "cell_type": "markdown",
   "metadata": {},
   "source": [
    "## Training the model"
   ]
  },
  {
   "cell_type": "code",
   "execution_count": 32,
   "metadata": {},
   "outputs": [
    {
     "name": "stdout",
     "output_type": "stream",
     "text": [
      "Train on 10446 samples, validate on 2612 samples\n",
      "Epoch 1/1\n",
      "10446/10446 [==============================] - 23s - loss: 0.0236 - val_loss: 0.0199\n",
      "Done\n"
     ]
    }
   ],
   "source": [
    "model.compile(loss='mse', optimizer='adam')\n",
    "model.fit(X_train,y_train, validation_split=0.2, shuffle=True, nb_epoch=1)\n",
    "\n",
    "model.save('model.h5')\n",
    "\n",
    "print('Done')"
   ]
  },
  {
   "cell_type": "markdown",
   "metadata": {},
   "source": [
    "## Step 3: Training"
   ]
  },
  {
   "cell_type": "code",
   "execution_count": null,
   "metadata": {
    "collapsed": true
   },
   "outputs": [],
   "source": []
  },
  {
   "cell_type": "markdown",
   "metadata": {},
   "source": [
    "\n",
    "\n",
    "\n",
    "\n",
    "## Step 4: Validation\n"
   ]
  },
  {
   "cell_type": "code",
   "execution_count": null,
   "metadata": {
    "collapsed": true
   },
   "outputs": [],
   "source": []
  }
 ],
 "metadata": {
  "kernelspec": {
   "display_name": "Python 3",
   "language": "python",
   "name": "python3"
  },
  "language_info": {
   "codemirror_mode": {
    "name": "ipython",
    "version": 3
   },
   "file_extension": ".py",
   "mimetype": "text/x-python",
   "name": "python",
   "nbconvert_exporter": "python",
   "pygments_lexer": "ipython3",
   "version": "3.5.2"
  },
  "widgets": {
   "state": {},
   "version": "1.1.2"
  }
 },
 "nbformat": 4,
 "nbformat_minor": 2
}
